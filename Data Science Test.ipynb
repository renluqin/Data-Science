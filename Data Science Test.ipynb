{
 "cells": [
  {
   "cell_type": "markdown",
   "id": "070af5c7",
   "metadata": {},
   "source": [
    "# Data Science Test \n",
    "#### From Luqin REN, 07/16/2022"
   ]
  },
  {
   "cell_type": "markdown",
   "id": "a429d273",
   "metadata": {},
   "source": [
    "### Requirements\n",
    "\n",
    "The dataset consists of two csv files, train.csv and test.csv.  The data can be divided into two\n",
    "categories as illustrated in the `target` column in the csv files.\n",
    "Train data has 2700 examples and test data has 900 examples, each data point has 30 attributes and each \n",
    "attribute can be either boolean/continuous/discrete values. \n",
    "\n",
    "\n",
    "The problem is to train a machine learning model that can differentiate categories for each example in the data.  "
   ]
  },
  {
   "cell_type": "markdown",
   "id": "4172a889",
   "metadata": {},
   "source": [
    "## 1. Data Analysis"
   ]
  },
  {
   "cell_type": "markdown",
   "id": "c4efc7cb",
   "metadata": {},
   "source": [
    "### 1.1 Data Preparation"
   ]
  },
  {
   "cell_type": "code",
   "execution_count": 1,
   "id": "cc647370",
   "metadata": {},
   "outputs": [
    {
     "name": "stdout",
     "output_type": "stream",
     "text": [
      "<class 'pandas.core.frame.DataFrame'>\n",
      "RangeIndex: 2700 entries, 0 to 2699\n",
      "Data columns (total 31 columns):\n",
      " #   Column  Non-Null Count  Dtype  \n",
      "---  ------  --------------  -----  \n",
      " 0   f0      2699 non-null   float64\n",
      " 1   f1      2598 non-null   object \n",
      " 2   f2      2700 non-null   object \n",
      " 3   f3      2700 non-null   object \n",
      " 4   f4      2700 non-null   object \n",
      " 5   f5      2700 non-null   object \n",
      " 6   f6      2700 non-null   object \n",
      " 7   f7      2700 non-null   object \n",
      " 8   f8      2700 non-null   object \n",
      " 9   f9      2700 non-null   object \n",
      " 10  f10     2700 non-null   object \n",
      " 11  f11     2700 non-null   object \n",
      " 12  f12     2700 non-null   object \n",
      " 13  f13     2700 non-null   object \n",
      " 14  f14     2700 non-null   object \n",
      " 15  f15     2700 non-null   object \n",
      " 16  f16     2700 non-null   object \n",
      " 17  f17     2424 non-null   float64\n",
      " 18  f18     2700 non-null   object \n",
      " 19  f19     2134 non-null   float64\n",
      " 20  f20     2700 non-null   object \n",
      " 21  f21     2522 non-null   float64\n",
      " 22  f22     2700 non-null   object \n",
      " 23  f23     2412 non-null   float64\n",
      " 24  f24     2700 non-null   object \n",
      " 25  f25     2414 non-null   float64\n",
      " 26  f26     2700 non-null   object \n",
      " 27  f27     0 non-null      float64\n",
      " 28  f28     2700 non-null   object \n",
      " 29  f29     2700 non-null   int64  \n",
      " 30  target  2700 non-null   object \n",
      "dtypes: float64(7), int64(1), object(23)\n",
      "memory usage: 654.0+ KB\n"
     ]
    }
   ],
   "source": [
    "import pandas as pd\n",
    "import numpy as np\n",
    "from xgboost import XGBClassifier\n",
    "from sklearn.model_selection import train_test_split\n",
    "from sklearn.metrics import accuracy_score,roc_auc_score,f1_score\n",
    "from sklearn.preprocessing import LabelEncoder\n",
    "from sklearn.model_selection import GridSearchCV\n",
    "import seaborn as sns\n",
    "import matplotlib.pyplot as plt\n",
    "from xgboost import plot_importance\n",
    "\n",
    "\n",
    "dataset = pd.read_csv('train.csv')\n",
    "test_set = pd.read_csv('test.csv')\n",
    "dataset.info()"
   ]
  },
  {
   "cell_type": "code",
   "execution_count": 2,
   "id": "01bd1feb",
   "metadata": {},
   "outputs": [
    {
     "data": {
      "text/html": [
       "<div>\n",
       "<style scoped>\n",
       "    .dataframe tbody tr th:only-of-type {\n",
       "        vertical-align: middle;\n",
       "    }\n",
       "\n",
       "    .dataframe tbody tr th {\n",
       "        vertical-align: top;\n",
       "    }\n",
       "\n",
       "    .dataframe thead th {\n",
       "        text-align: right;\n",
       "    }\n",
       "</style>\n",
       "<table border=\"1\" class=\"dataframe\">\n",
       "  <thead>\n",
       "    <tr style=\"text-align: right;\">\n",
       "      <th></th>\n",
       "      <th>f0</th>\n",
       "      <th>f1</th>\n",
       "      <th>f2</th>\n",
       "      <th>f3</th>\n",
       "      <th>f4</th>\n",
       "      <th>f5</th>\n",
       "      <th>f6</th>\n",
       "      <th>f7</th>\n",
       "      <th>f8</th>\n",
       "      <th>f9</th>\n",
       "      <th>...</th>\n",
       "      <th>f21</th>\n",
       "      <th>f22</th>\n",
       "      <th>f23</th>\n",
       "      <th>f24</th>\n",
       "      <th>f25</th>\n",
       "      <th>f26</th>\n",
       "      <th>f27</th>\n",
       "      <th>f28</th>\n",
       "      <th>f29</th>\n",
       "      <th>target</th>\n",
       "    </tr>\n",
       "  </thead>\n",
       "  <tbody>\n",
       "    <tr>\n",
       "      <th>0</th>\n",
       "      <td>49.0</td>\n",
       "      <td>F</td>\n",
       "      <td>t</td>\n",
       "      <td>f</td>\n",
       "      <td>f</td>\n",
       "      <td>f</td>\n",
       "      <td>f</td>\n",
       "      <td>f</td>\n",
       "      <td>f</td>\n",
       "      <td>f</td>\n",
       "      <td>...</td>\n",
       "      <td>72.0</td>\n",
       "      <td>t</td>\n",
       "      <td>0.95</td>\n",
       "      <td>t</td>\n",
       "      <td>76.0</td>\n",
       "      <td>f</td>\n",
       "      <td>NaN</td>\n",
       "      <td>other</td>\n",
       "      <td>3696</td>\n",
       "      <td>positive</td>\n",
       "    </tr>\n",
       "    <tr>\n",
       "      <th>1</th>\n",
       "      <td>83.0</td>\n",
       "      <td>F</td>\n",
       "      <td>f</td>\n",
       "      <td>f</td>\n",
       "      <td>f</td>\n",
       "      <td>f</td>\n",
       "      <td>f</td>\n",
       "      <td>f</td>\n",
       "      <td>f</td>\n",
       "      <td>f</td>\n",
       "      <td>...</td>\n",
       "      <td>100.0</td>\n",
       "      <td>t</td>\n",
       "      <td>0.86</td>\n",
       "      <td>t</td>\n",
       "      <td>117.0</td>\n",
       "      <td>f</td>\n",
       "      <td>NaN</td>\n",
       "      <td>SVI</td>\n",
       "      <td>2069</td>\n",
       "      <td>negative</td>\n",
       "    </tr>\n",
       "    <tr>\n",
       "      <th>2</th>\n",
       "      <td>57.0</td>\n",
       "      <td>F</td>\n",
       "      <td>f</td>\n",
       "      <td>f</td>\n",
       "      <td>f</td>\n",
       "      <td>f</td>\n",
       "      <td>f</td>\n",
       "      <td>f</td>\n",
       "      <td>f</td>\n",
       "      <td>f</td>\n",
       "      <td>...</td>\n",
       "      <td>NaN</td>\n",
       "      <td>f</td>\n",
       "      <td>NaN</td>\n",
       "      <td>f</td>\n",
       "      <td>NaN</td>\n",
       "      <td>f</td>\n",
       "      <td>NaN</td>\n",
       "      <td>other</td>\n",
       "      <td>851</td>\n",
       "      <td>negative</td>\n",
       "    </tr>\n",
       "    <tr>\n",
       "      <th>3</th>\n",
       "      <td>56.0</td>\n",
       "      <td>NaN</td>\n",
       "      <td>f</td>\n",
       "      <td>f</td>\n",
       "      <td>f</td>\n",
       "      <td>f</td>\n",
       "      <td>f</td>\n",
       "      <td>f</td>\n",
       "      <td>f</td>\n",
       "      <td>f</td>\n",
       "      <td>...</td>\n",
       "      <td>86.0</td>\n",
       "      <td>t</td>\n",
       "      <td>0.91</td>\n",
       "      <td>t</td>\n",
       "      <td>95.0</td>\n",
       "      <td>f</td>\n",
       "      <td>NaN</td>\n",
       "      <td>other</td>\n",
       "      <td>2328</td>\n",
       "      <td>negative</td>\n",
       "    </tr>\n",
       "    <tr>\n",
       "      <th>4</th>\n",
       "      <td>76.0</td>\n",
       "      <td>F</td>\n",
       "      <td>f</td>\n",
       "      <td>f</td>\n",
       "      <td>f</td>\n",
       "      <td>f</td>\n",
       "      <td>f</td>\n",
       "      <td>f</td>\n",
       "      <td>f</td>\n",
       "      <td>t</td>\n",
       "      <td>...</td>\n",
       "      <td>115.0</td>\n",
       "      <td>t</td>\n",
       "      <td>1.11</td>\n",
       "      <td>t</td>\n",
       "      <td>104.0</td>\n",
       "      <td>f</td>\n",
       "      <td>NaN</td>\n",
       "      <td>SVI</td>\n",
       "      <td>2270</td>\n",
       "      <td>positive</td>\n",
       "    </tr>\n",
       "  </tbody>\n",
       "</table>\n",
       "<p>5 rows × 31 columns</p>\n",
       "</div>"
      ],
      "text/plain": [
       "     f0   f1 f2 f3 f4 f5 f6 f7 f8 f9  ...    f21 f22   f23 f24    f25 f26 f27  \\\n",
       "0  49.0    F  t  f  f  f  f  f  f  f  ...   72.0   t  0.95   t   76.0   f NaN   \n",
       "1  83.0    F  f  f  f  f  f  f  f  f  ...  100.0   t  0.86   t  117.0   f NaN   \n",
       "2  57.0    F  f  f  f  f  f  f  f  f  ...    NaN   f   NaN   f    NaN   f NaN   \n",
       "3  56.0  NaN  f  f  f  f  f  f  f  f  ...   86.0   t  0.91   t   95.0   f NaN   \n",
       "4  76.0    F  f  f  f  f  f  f  f  t  ...  115.0   t  1.11   t  104.0   f NaN   \n",
       "\n",
       "     f28   f29    target  \n",
       "0  other  3696  positive  \n",
       "1    SVI  2069  negative  \n",
       "2  other   851  negative  \n",
       "3  other  2328  negative  \n",
       "4    SVI  2270  positive  \n",
       "\n",
       "[5 rows x 31 columns]"
      ]
     },
     "execution_count": 2,
     "metadata": {},
     "output_type": "execute_result"
    }
   ],
   "source": [
    "dataset.head()"
   ]
  },
  {
   "cell_type": "markdown",
   "id": "7de6121e",
   "metadata": {},
   "source": [
    "### 1.2 Data Processing "
   ]
  },
  {
   "cell_type": "markdown",
   "id": "543763c3",
   "metadata": {},
   "source": [
    "##### A. Replace Outliers\n",
    "##### B. Replace NANs\n",
    "##### C. Encode Categorical Features"
   ]
  },
  {
   "cell_type": "markdown",
   "id": "28aeac15",
   "metadata": {},
   "source": [
    "### 1.2.1 Label Feature "
   ]
  },
  {
   "cell_type": "code",
   "execution_count": 3,
   "id": "b3585fc7",
   "metadata": {},
   "outputs": [
    {
     "data": {
      "image/png": "[encoded data removed]",
      "text/plain": [
       "<Figure size 432x288 with 1 Axes>"
      ]
     },
     "metadata": {},
     "output_type": "display_data"
    }
   ],
   "source": [
    "sns.set_theme(style=\"darkgrid\")\n",
    "ax1 = sns.countplot(y=\"target\", data=dataset)"
   ]
  },
  {
   "cell_type": "code",
   "execution_count": 4,
   "id": "452cb667",
   "metadata": {},
   "outputs": [
    {
     "data": {
      "image/png": "[encoded data removed]",
      "text/plain": [
       "<Figure size 432x288 with 1 Axes>"
      ]
     },
     "metadata": {},
     "output_type": "display_data"
    }
   ],
   "source": [
    "ax2 = sns.countplot(y=\"target\", data=test_set)"
   ]
  },
  {
   "cell_type": "markdown",
   "id": "12bad85c",
   "metadata": {},
   "source": [
    "The ratio of positive and negative samples in the training set and test set is about **1:15**. The problem of **unbalanced** samples needs to be considered later."
   ]
  },
  {
   "cell_type": "markdown",
   "id": "1cd6ad60",
   "metadata": {},
   "source": [
    "### 1.2.2 Continuous Features "
   ]
  },
  {
   "cell_type": "code",
   "execution_count": 5,
   "id": "dbed5a47",
   "metadata": {},
   "outputs": [
    {
     "data": {
      "text/html": [
       "<div>\n",
       "<style scoped>\n",
       "    .dataframe tbody tr th:only-of-type {\n",
       "        vertical-align: middle;\n",
       "    }\n",
       "\n",
       "    .dataframe tbody tr th {\n",
       "        vertical-align: top;\n",
       "    }\n",
       "\n",
       "    .dataframe thead th {\n",
       "        text-align: right;\n",
       "    }\n",
       "</style>\n",
       "<table border=\"1\" class=\"dataframe\">\n",
       "  <thead>\n",
       "    <tr style=\"text-align: right;\">\n",
       "      <th></th>\n",
       "      <th>f0</th>\n",
       "      <th>f17</th>\n",
       "      <th>f19</th>\n",
       "      <th>f21</th>\n",
       "      <th>f23</th>\n",
       "      <th>f25</th>\n",
       "      <th>f27</th>\n",
       "      <th>f29</th>\n",
       "    </tr>\n",
       "  </thead>\n",
       "  <tbody>\n",
       "    <tr>\n",
       "      <th>count</th>\n",
       "      <td>2699.000000</td>\n",
       "      <td>2424.000000</td>\n",
       "      <td>2134.000000</td>\n",
       "      <td>2522.000000</td>\n",
       "      <td>2412.000000</td>\n",
       "      <td>2414.000000</td>\n",
       "      <td>0.0</td>\n",
       "      <td>2700.000000</td>\n",
       "    </tr>\n",
       "    <tr>\n",
       "      <th>mean</th>\n",
       "      <td>51.832901</td>\n",
       "      <td>4.682436</td>\n",
       "      <td>2.021228</td>\n",
       "      <td>108.881205</td>\n",
       "      <td>0.997037</td>\n",
       "      <td>110.709983</td>\n",
       "      <td>NaN</td>\n",
       "      <td>1892.355926</td>\n",
       "    </tr>\n",
       "    <tr>\n",
       "      <th>std</th>\n",
       "      <td>20.486355</td>\n",
       "      <td>21.616669</td>\n",
       "      <td>0.823985</td>\n",
       "      <td>35.190261</td>\n",
       "      <td>0.193720</td>\n",
       "      <td>32.860272</td>\n",
       "      <td>NaN</td>\n",
       "      <td>1092.537129</td>\n",
       "    </tr>\n",
       "    <tr>\n",
       "      <th>min</th>\n",
       "      <td>1.000000</td>\n",
       "      <td>0.005000</td>\n",
       "      <td>0.050000</td>\n",
       "      <td>2.000000</td>\n",
       "      <td>0.310000</td>\n",
       "      <td>2.000000</td>\n",
       "      <td>NaN</td>\n",
       "      <td>1.000000</td>\n",
       "    </tr>\n",
       "    <tr>\n",
       "      <th>25%</th>\n",
       "      <td>36.000000</td>\n",
       "      <td>0.450000</td>\n",
       "      <td>1.600000</td>\n",
       "      <td>88.000000</td>\n",
       "      <td>0.880000</td>\n",
       "      <td>93.000000</td>\n",
       "      <td>NaN</td>\n",
       "      <td>952.750000</td>\n",
       "    </tr>\n",
       "    <tr>\n",
       "      <th>50%</th>\n",
       "      <td>54.000000</td>\n",
       "      <td>1.400000</td>\n",
       "      <td>2.000000</td>\n",
       "      <td>104.000000</td>\n",
       "      <td>0.980000</td>\n",
       "      <td>107.000000</td>\n",
       "      <td>NaN</td>\n",
       "      <td>1911.000000</td>\n",
       "    </tr>\n",
       "    <tr>\n",
       "      <th>75%</th>\n",
       "      <td>67.000000</td>\n",
       "      <td>2.600000</td>\n",
       "      <td>2.400000</td>\n",
       "      <td>125.000000</td>\n",
       "      <td>1.080000</td>\n",
       "      <td>124.000000</td>\n",
       "      <td>NaN</td>\n",
       "      <td>2837.500000</td>\n",
       "    </tr>\n",
       "    <tr>\n",
       "      <th>max</th>\n",
       "      <td>455.000000</td>\n",
       "      <td>478.000000</td>\n",
       "      <td>10.600000</td>\n",
       "      <td>430.000000</td>\n",
       "      <td>2.120000</td>\n",
       "      <td>395.000000</td>\n",
       "      <td>NaN</td>\n",
       "      <td>3772.000000</td>\n",
       "    </tr>\n",
       "  </tbody>\n",
       "</table>\n",
       "</div>"
      ],
      "text/plain": [
       "                f0          f17          f19          f21          f23  \\\n",
       "count  2699.000000  2424.000000  2134.000000  2522.000000  2412.000000   \n",
       "mean     51.832901     4.682436     2.021228   108.881205     0.997037   \n",
       "std      20.486355    21.616669     0.823985    35.190261     0.193720   \n",
       "min       1.000000     0.005000     0.050000     2.000000     0.310000   \n",
       "25%      36.000000     0.450000     1.600000    88.000000     0.880000   \n",
       "50%      54.000000     1.400000     2.000000   104.000000     0.980000   \n",
       "75%      67.000000     2.600000     2.400000   125.000000     1.080000   \n",
       "max     455.000000   478.000000    10.600000   430.000000     2.120000   \n",
       "\n",
       "               f25  f27          f29  \n",
       "count  2414.000000  0.0  2700.000000  \n",
       "mean    110.709983  NaN  1892.355926  \n",
       "std      32.860272  NaN  1092.537129  \n",
       "min       2.000000  NaN     1.000000  \n",
       "25%      93.000000  NaN   952.750000  \n",
       "50%     107.000000  NaN  1911.000000  \n",
       "75%     124.000000  NaN  2837.500000  \n",
       "max     395.000000  NaN  3772.000000  "
      ]
     },
     "execution_count": 5,
     "metadata": {},
     "output_type": "execute_result"
    }
   ],
   "source": [
    "dataset.describe()"
   ]
  },
  {
   "cell_type": "markdown",
   "id": "1b3a3728",
   "metadata": {},
   "source": [
    "Obviously, the **dimensions** of these continuous variables are different. **Normalization** and **standarization** are required generally."
   ]
  },
  {
   "cell_type": "code",
   "execution_count": 6,
   "id": "4e1fbf3e",
   "metadata": {},
   "outputs": [
    {
     "data": {
      "image/png": "[encoded data removed]",
      "text/plain": [
       "<Figure size 432x288 with 1 Axes>"
      ]
     },
     "metadata": {},
     "output_type": "display_data"
    }
   ],
   "source": [
    "sns.boxplot(x='f0', data=dataset)\n",
    "dataset.replace(to_replace=455,value=dataset['f0'].mean(),inplace = True)"
   ]
  },
  {
   "cell_type": "markdown",
   "id": "6d9c1c15",
   "metadata": {},
   "source": [
    "**f0** looks like 'age', replace **outlier** 455 with mean."
   ]
  },
  {
   "cell_type": "code",
   "execution_count": 7,
   "id": "10ffbb62",
   "metadata": {},
   "outputs": [
    {
     "data": {
      "image/png": "[encoded data removed]",
      "text/plain": [
       "<Figure size 432x288 with 2 Axes>"
      ]
     },
     "metadata": {},
     "output_type": "display_data"
    }
   ],
   "source": [
    "sns.heatmap(dataset.select_dtypes(include='float64').corr(), annot = True)\n",
    "plt.show()"
   ]
  },
  {
   "cell_type": "markdown",
   "id": "ec80e6c6",
   "metadata": {},
   "source": [
    "**f21** and **f25** are strongly correlated, but with **Xgboost**, a tree-based model, can solve the problem of multicollinearity very well, so the step of **PCA** is temporarily omitted here."
   ]
  },
  {
   "cell_type": "markdown",
   "id": "ab7abf2d",
   "metadata": {},
   "source": [
    "### 1.2.3 Categorical Features"
   ]
  },
  {
   "cell_type": "code",
   "execution_count": 8,
   "id": "66681e7a",
   "metadata": {},
   "outputs": [
    {
     "data": {
      "image/png": "[encoded data removed]",
      "text/plain": [
       "<Figure size 432x288 with 1 Axes>"
      ]
     },
     "metadata": {},
     "output_type": "display_data"
    }
   ],
   "source": [
    "dataset['f1'].fillna(value='U',inplace=True)\n",
    "ax = sns.countplot(y=\"f1\", data=dataset)"
   ]
  },
  {
   "cell_type": "markdown",
   "id": "269ec143",
   "metadata": {},
   "source": [
    "Replace **nan** in Sex feature with U (Unknown)"
   ]
  },
  {
   "cell_type": "markdown",
   "id": "f4ca8c7f",
   "metadata": {},
   "source": [
    "### 1.2.4 Data Processing Function "
   ]
  },
  {
   "cell_type": "code",
   "execution_count": 9,
   "id": "e3c63779",
   "metadata": {},
   "outputs": [
    {
     "name": "stdout",
     "output_type": "stream",
     "text": [
      "<class 'pandas.core.frame.DataFrame'>\n",
      "RangeIndex: 2700 entries, 0 to 2699\n",
      "Data columns (total 30 columns):\n",
      " #   Column  Non-Null Count  Dtype  \n",
      "---  ------  --------------  -----  \n",
      " 0   f0      2700 non-null   float64\n",
      " 1   f1      2700 non-null   int32  \n",
      " 2   f2      2700 non-null   bool   \n",
      " 3   f3      2700 non-null   bool   \n",
      " 4   f4      2700 non-null   bool   \n",
      " 5   f5      2700 non-null   bool   \n",
      " 6   f6      2700 non-null   bool   \n",
      " 7   f7      2700 non-null   bool   \n",
      " 8   f8      2700 non-null   bool   \n",
      " 9   f9      2700 non-null   bool   \n",
      " 10  f10     2700 non-null   bool   \n",
      " 11  f11     2700 non-null   bool   \n",
      " 12  f12     2700 non-null   bool   \n",
      " 13  f13     2700 non-null   bool   \n",
      " 14  f14     2700 non-null   bool   \n",
      " 15  f15     2700 non-null   bool   \n",
      " 16  f16     2700 non-null   bool   \n",
      " 17  f17     2700 non-null   float64\n",
      " 18  f18     2700 non-null   bool   \n",
      " 19  f19     2700 non-null   float64\n",
      " 20  f20     2700 non-null   bool   \n",
      " 21  f21     2700 non-null   float64\n",
      " 22  f22     2700 non-null   bool   \n",
      " 23  f23     2700 non-null   float64\n",
      " 24  f24     2700 non-null   bool   \n",
      " 25  f25     2700 non-null   float64\n",
      " 26  f26     2700 non-null   bool   \n",
      " 27  f28     2700 non-null   int32  \n",
      " 28  f29     2700 non-null   float64\n",
      " 29  target  2700 non-null   int64  \n",
      "dtypes: bool(20), float64(7), int32(2), int64(1)\n",
      "memory usage: 242.7 KB\n"
     ]
    }
   ],
   "source": [
    "def data_processing(dataset):\n",
    "    # drop f27 which is all nan\n",
    "    dataset.drop(columns='f27', inplace = True)\n",
    "    \n",
    "    # replace all t with True, and f with False to make them as boolean\n",
    "    dataset.replace(to_replace='t',value=True,inplace = True)\n",
    "    dataset.replace(to_replace='f',value=False,inplace = True)\n",
    "    \n",
    "    # repalce nan in Sex feature with U to make it categrical\n",
    "    dataset['f1'].fillna(value='U',inplace=True)\n",
    "    \n",
    "    # encode categrical features with labels\n",
    "    try:\n",
    "        f1_encoder\n",
    "    except:\n",
    "        f1_encoder = LabelEncoder()\n",
    "    dataset['f1'] = f1_encoder.fit_transform(np.array(dataset['f1']))\n",
    "    \n",
    "    try:\n",
    "        f28_encoder\n",
    "    except:\n",
    "        f28_encoder = LabelEncoder()\n",
    "    dataset['f28'] = f28_encoder.fit_transform(np.array(dataset['f28']))\n",
    "    \n",
    "    # replace all nan in continous features with there medians\n",
    "    for i in dataset.select_dtypes(include='float64').columns:\n",
    "        dataset[i].fillna(value=dataset[i].median(),inplace=True)\n",
    "\n",
    "    # replace Y with label 1 and -1\n",
    "    dataset.replace(to_replace='negative',value=-1,inplace = True)\n",
    "    dataset.replace(to_replace='positive',value=1,inplace = True)\n",
    "    \n",
    "    \n",
    "    return dataset, f1_encoder, f28_encoder\n",
    "    \n",
    "train_set, f1_encoder, f28_encoder  = data_processing(dataset)\n",
    "train_set.info()"
   ]
  },
  {
   "cell_type": "markdown",
   "id": "f00fc20e",
   "metadata": {},
   "source": [
    "### 1.2.5 Data Analysis"
   ]
  },
  {
   "cell_type": "code",
   "execution_count": 10,
   "id": "d045022a",
   "metadata": {},
   "outputs": [
    {
     "data": {
      "image/png": "[encoded data removed]",
      "text/plain": [
       "<Figure size 432x288 with 1 Axes>"
      ]
     },
     "metadata": {},
     "output_type": "display_data"
    }
   ],
   "source": [
    "sns.violinplot(x = 'target', y = 'f19', data = train_set)\n",
    "plt.show()"
   ]
  },
  {
   "cell_type": "markdown",
   "id": "c3b2da19",
   "metadata": {},
   "source": [
    "In the **positive** sample set, **f19** has smaller mean and smaller variance, and it has three peaks, suspected to fit **Gaussian mixture distribution**.\n",
    "In the **negative** sample set, **f19** is more like a **logarithmic distribution** than a **normal distribution**."
   ]
  },
  {
   "cell_type": "code",
   "execution_count": 11,
   "id": "8b9d000e",
   "metadata": {},
   "outputs": [
    {
     "data": {
      "image/png": "[encoded data removed]",
      "text/plain": [
       "<Figure size 432x288 with 1 Axes>"
      ]
     },
     "metadata": {},
     "output_type": "display_data"
    }
   ],
   "source": [
    "sns.violinplot(x = 'target', y = 'f29', data = train_set)\n",
    "plt.show()"
   ]
  },
  {
   "cell_type": "markdown",
   "id": "57f19fe1",
   "metadata": {},
   "source": [
    "The distribution of **f29** is different in 2 sample sets.\n",
    "In the **positive** sample set, the mean of **f29** is smaller and there are three peaks, which are suspected to fit the **Gaussian mixture distribution**.\n",
    "In the **negative** sample set, **f29** is very close to **uniform distribution**."
   ]
  },
  {
   "cell_type": "markdown",
   "id": "f2ee0b9c",
   "metadata": {},
   "source": [
    "## 2. Model Training "
   ]
  },
  {
   "cell_type": "markdown",
   "id": "0619cbdc",
   "metadata": {},
   "source": [
    "Overall, the dataset is clean and has both continuous and discrete variables. Considering the **simplicity of data processing** and the **training efficiency** and **effect**, here I choose to use the **ensemble** learning method, the **Xgboost** model, to train the data. If the **Xgboost** effect is not good, we can consider using the **Cross Validation** method to compare the effect of other models, such as **RF, SVM, Adaboost**, etc."
   ]
  },
  {
   "cell_type": "markdown",
   "id": "3f3f59b5",
   "metadata": {},
   "source": [
    "## 2.1 Model Training"
   ]
  },
  {
   "cell_type": "code",
   "execution_count": 12,
   "id": "a92cc0f1",
   "metadata": {},
   "outputs": [
    {
     "name": "stdout",
     "output_type": "stream",
     "text": [
      "Accuracy: 98.54%\n",
      "F1 Score: 88.89%\n",
      "ROC AUC Score: 93.03%\n"
     ]
    }
   ],
   "source": [
    "# split data into X and y\n",
    "X = train_set[train_set.columns.difference(['target'])]\n",
    "Y = train_set['target']\n",
    "\n",
    "# split data into train and test sets\n",
    "seed = 7\n",
    "test_size = 0.33\n",
    "X_train, X_test, y_train, y_test = train_test_split(X, Y, test_size=test_size, random_state=seed)\n",
    "\n",
    "# fit model no training data\n",
    "model = XGBClassifier(seed=27)\n",
    "model.fit(X_train, y_train) \n",
    "\n",
    "# make predictions for test data\n",
    "y_pred = model.predict(X_test)\n",
    "\n",
    "# evaluate predictions\n",
    "accuracy = accuracy_score(y_test, y_pred)\n",
    "print(\"Accuracy: %.2f%%\" % (accuracy * 100.0))\n",
    "\n",
    "f1 = f1_score(y_test, y_pred)\n",
    "print(\"F1 Score: %.2f%%\" % (f1 * 100.0))\n",
    "\n",
    "auc = roc_auc_score(y_test, y_pred)\n",
    "print(\"ROC AUC Score: %.2f%%\" % (auc * 100.0))"
   ]
  },
  {
   "cell_type": "markdown",
   "id": "f2c3086a",
   "metadata": {},
   "source": [
    "## 2.2 Model Tunning "
   ]
  },
  {
   "cell_type": "code",
   "execution_count": 13,
   "id": "e5cc1395",
   "metadata": {},
   "outputs": [
    {
     "data": {
      "text/plain": [
       "({'reg_alpha': 1e-05}, 0.9960361266381333)"
      ]
     },
     "execution_count": 13,
     "metadata": {},
     "output_type": "execute_result"
    }
   ],
   "source": [
    " param_test1 = {\n",
    " 'max_depth':list(range(3,10,2)),\n",
    " 'min_child_weight':list(range(1,6,2))\n",
    "}\n",
    "\n",
    "gsearch1 = GridSearchCV(estimator = XGBClassifier(learning_rate =0.1, n_estimators=20, max_depth=5,\n",
    " min_child_weight=1, gamma=0, subsample=0.8, colsample_bytree=0.8,\n",
    " objective= 'binary:logistic', nthread=4, scale_pos_weight=10, seed=27), \n",
    " param_grid = param_test1, scoring='roc_auc',n_jobs=4, cv=5)\n",
    "\n",
    "gsearch1.fit(X,Y)\n",
    "gsearch1.best_params_, gsearch1.best_score_\n",
    "\n",
    "param_test2 = {\n",
    " 'max_depth':[3,4,5,6,7],\n",
    " 'min_child_weight':[0.5,1,2,3]\n",
    "}\n",
    "gsearch2 = GridSearchCV(estimator = XGBClassifier( learning_rate=0.1, n_estimators=20, max_depth=5,\n",
    " min_child_weight=2, gamma=0, subsample=0.8, colsample_bytree=0.8,\n",
    " objective= 'binary:logistic', nthread=4, scale_pos_weight=10,seed=27), \n",
    " param_grid = param_test2, scoring='roc_auc',n_jobs=4, cv=5)\n",
    "gsearch2.fit(X,Y)\n",
    "gsearch2.best_params_, gsearch2.best_score_\n",
    "\n",
    "\n",
    "param_test3 = {\n",
    " 'gamma':[i/10.0 for i in range(0,5)]\n",
    "}\n",
    "gsearch3 = GridSearchCV(estimator = XGBClassifier( learning_rate =0.1, n_estimators=20, max_depth=5,\n",
    " min_child_weight=1, gamma=0, subsample=0.8, colsample_bytree=0.8,\n",
    " objective= 'binary:logistic', nthread=4, scale_pos_weight=10,seed=27), \n",
    " param_grid = param_test3, scoring='roc_auc',n_jobs=4, cv=5)\n",
    "gsearch3.fit(X,Y)\n",
    "gsearch3.best_params_, gsearch3.best_score_\n",
    "\n",
    "param_test5 = {\n",
    " 'subsample':[i/100.0 for i in range(75,100,5)],\n",
    " 'colsample_bytree':[i/100.0 for i in range(75,100,5)]\n",
    "}\n",
    "gsearch5 = GridSearchCV(estimator = XGBClassifier( learning_rate =0.1, n_estimators=20, max_depth=5,\n",
    " min_child_weight=1, gamma=0, subsample=0.8, colsample_bytree=0.8,\n",
    " objective= 'binary:logistic', nthread=4, scale_pos_weight=10,seed=27), \n",
    " param_grid = param_test5, scoring='roc_auc',n_jobs=4, cv=5)\n",
    "gsearch5.fit(X,Y)\n",
    "gsearch5.best_params_, gsearch5.best_score_\n",
    "\n",
    "param_test6 = {\n",
    " 'reg_alpha':[1e-5, 1e-2, 0.1, 1, 100]\n",
    "}\n",
    "gsearch6 = GridSearchCV(estimator = XGBClassifier( learning_rate =0.1, n_estimators=20, max_depth=5,\n",
    " min_child_weight=1, gamma=0, subsample=0.8, colsample_bytree=0.8,\n",
    " objective= 'binary:logistic', nthread=4, scale_pos_weight=10,seed=27), \n",
    " param_grid = param_test6, scoring='roc_auc',n_jobs=4, cv=5)\n",
    "gsearch6.fit(X,Y)\n",
    "gsearch6.best_params_, gsearch6.best_score_"
   ]
  },
  {
   "cell_type": "code",
   "execution_count": 14,
   "id": "058a695f",
   "metadata": {},
   "outputs": [
    {
     "name": "stdout",
     "output_type": "stream",
     "text": [
      "Accuracy: 98.54%\n",
      "F1 Score: 89.08%\n",
      "ROC AUC Score: 93.81%\n"
     ]
    }
   ],
   "source": [
    "xgb_final = XGBClassifier(\n",
    " max_depth=5,\n",
    " min_child_weight=1,\n",
    " gamma=0,\n",
    " subsample=0.8,\n",
    " colsample_bytree=0.8,\n",
    " reg_alpha=1e-5,\n",
    " scale_pos_weight=10,\n",
    " seed=27)\n",
    "\n",
    "xgb_final.fit(X_train, y_train) \n",
    "# make predictions for test data\n",
    "y_pred = xgb_final.predict(X_test)\n",
    "\n",
    "# evaluate predictions\n",
    "accuracy = accuracy_score(y_test, y_pred)\n",
    "print(\"Accuracy: %.2f%%\" % (accuracy * 100.0))\n",
    "\n",
    "f1 = f1_score(y_test, y_pred)\n",
    "print(\"F1 Score: %.2f%%\" % (f1 * 100.0))\n",
    "\n",
    "auc = roc_auc_score(y_test, y_pred)\n",
    "print(\"ROC AUC Score: %.2f%%\" % (auc * 100.0))"
   ]
  },
  {
   "cell_type": "code",
   "execution_count": 15,
   "id": "e652620b",
   "metadata": {},
   "outputs": [
    {
     "data": {
      "image/png": "[encoded data removed]",
      "text/plain": [
       "<Figure size 432x288 with 1 Axes>"
      ]
     },
     "metadata": {},
     "output_type": "display_data"
    }
   ],
   "source": [
    "# plot feature importance\n",
    "plot_importance(xgb_final)\n",
    "plt.show()"
   ]
  },
  {
   "cell_type": "code",
   "execution_count": 16,
   "id": "083a160e",
   "metadata": {},
   "outputs": [
    {
     "data": {
      "text/plain": [
       "XGBClassifier(colsample_bytree=0.8, max_depth=5, reg_alpha=1e-05,\n",
       "              scale_pos_weight=10, seed=27, subsample=0.8)"
      ]
     },
     "execution_count": 16,
     "metadata": {},
     "output_type": "execute_result"
    }
   ],
   "source": [
    "xgb_final.fit(X, Y) "
   ]
  },
  {
   "cell_type": "markdown",
   "id": "6e56d73b",
   "metadata": {},
   "source": [
    "## 3. Evaluation "
   ]
  },
  {
   "cell_type": "code",
   "execution_count": 17,
   "id": "c46bc705",
   "metadata": {},
   "outputs": [
    {
     "name": "stdout",
     "output_type": "stream",
     "text": [
      "<class 'pandas.core.frame.DataFrame'>\n",
      "RangeIndex: 900 entries, 0 to 899\n",
      "Data columns (total 31 columns):\n",
      " #   Column  Non-Null Count  Dtype  \n",
      "---  ------  --------------  -----  \n",
      " 0   f0      900 non-null    int64  \n",
      " 1   f1      863 non-null    object \n",
      " 2   f2      900 non-null    object \n",
      " 3   f3      900 non-null    object \n",
      " 4   f4      900 non-null    object \n",
      " 5   f5      900 non-null    object \n",
      " 6   f6      900 non-null    object \n",
      " 7   f7      900 non-null    object \n",
      " 8   f8      900 non-null    object \n",
      " 9   f9      900 non-null    object \n",
      " 10  f10     900 non-null    object \n",
      " 11  f11     900 non-null    object \n",
      " 12  f12     900 non-null    object \n",
      " 13  f13     900 non-null    object \n",
      " 14  f14     900 non-null    object \n",
      " 15  f15     900 non-null    object \n",
      " 16  f16     900 non-null    object \n",
      " 17  f17     823 non-null    float64\n",
      " 18  f18     900 non-null    object \n",
      " 19  f19     731 non-null    float64\n",
      " 20  f20     900 non-null    object \n",
      " 21  f21     859 non-null    float64\n",
      " 22  f22     900 non-null    object \n",
      " 23  f23     818 non-null    float64\n",
      " 24  f24     900 non-null    object \n",
      " 25  f25     818 non-null    float64\n",
      " 26  f26     900 non-null    object \n",
      " 27  f27     0 non-null      float64\n",
      " 28  f28     900 non-null    object \n",
      " 29  f29     900 non-null    int64  \n",
      " 30  target  900 non-null    object \n",
      "dtypes: float64(6), int64(2), object(23)\n",
      "memory usage: 218.1+ KB\n"
     ]
    }
   ],
   "source": [
    "test_set.info()"
   ]
  },
  {
   "cell_type": "code",
   "execution_count": 18,
   "id": "2154d9cf",
   "metadata": {},
   "outputs": [
    {
     "data": {
      "text/html": [
       "<div>\n",
       "<style scoped>\n",
       "    .dataframe tbody tr th:only-of-type {\n",
       "        vertical-align: middle;\n",
       "    }\n",
       "\n",
       "    .dataframe tbody tr th {\n",
       "        vertical-align: top;\n",
       "    }\n",
       "\n",
       "    .dataframe thead th {\n",
       "        text-align: right;\n",
       "    }\n",
       "</style>\n",
       "<table border=\"1\" class=\"dataframe\">\n",
       "  <thead>\n",
       "    <tr style=\"text-align: right;\">\n",
       "      <th></th>\n",
       "      <th>f0</th>\n",
       "      <th>f1</th>\n",
       "      <th>f2</th>\n",
       "      <th>f3</th>\n",
       "      <th>f4</th>\n",
       "      <th>f5</th>\n",
       "      <th>f6</th>\n",
       "      <th>f7</th>\n",
       "      <th>f8</th>\n",
       "      <th>f9</th>\n",
       "      <th>...</th>\n",
       "      <th>f21</th>\n",
       "      <th>f22</th>\n",
       "      <th>f23</th>\n",
       "      <th>f24</th>\n",
       "      <th>f25</th>\n",
       "      <th>f26</th>\n",
       "      <th>f27</th>\n",
       "      <th>f28</th>\n",
       "      <th>f29</th>\n",
       "      <th>target</th>\n",
       "    </tr>\n",
       "  </thead>\n",
       "  <tbody>\n",
       "    <tr>\n",
       "      <th>0</th>\n",
       "      <td>30</td>\n",
       "      <td>F</td>\n",
       "      <td>f</td>\n",
       "      <td>f</td>\n",
       "      <td>f</td>\n",
       "      <td>f</td>\n",
       "      <td>t</td>\n",
       "      <td>f</td>\n",
       "      <td>f</td>\n",
       "      <td>f</td>\n",
       "      <td>...</td>\n",
       "      <td>159.0</td>\n",
       "      <td>t</td>\n",
       "      <td>1.65</td>\n",
       "      <td>t</td>\n",
       "      <td>96.0</td>\n",
       "      <td>f</td>\n",
       "      <td>NaN</td>\n",
       "      <td>STMW</td>\n",
       "      <td>1540</td>\n",
       "      <td>negative</td>\n",
       "    </tr>\n",
       "    <tr>\n",
       "      <th>1</th>\n",
       "      <td>38</td>\n",
       "      <td>F</td>\n",
       "      <td>f</td>\n",
       "      <td>f</td>\n",
       "      <td>f</td>\n",
       "      <td>f</td>\n",
       "      <td>f</td>\n",
       "      <td>f</td>\n",
       "      <td>f</td>\n",
       "      <td>f</td>\n",
       "      <td>...</td>\n",
       "      <td>57.0</td>\n",
       "      <td>t</td>\n",
       "      <td>0.92</td>\n",
       "      <td>t</td>\n",
       "      <td>63.0</td>\n",
       "      <td>f</td>\n",
       "      <td>NaN</td>\n",
       "      <td>SVHC</td>\n",
       "      <td>1626</td>\n",
       "      <td>negative</td>\n",
       "    </tr>\n",
       "    <tr>\n",
       "      <th>2</th>\n",
       "      <td>21</td>\n",
       "      <td>NaN</td>\n",
       "      <td>f</td>\n",
       "      <td>f</td>\n",
       "      <td>f</td>\n",
       "      <td>f</td>\n",
       "      <td>t</td>\n",
       "      <td>f</td>\n",
       "      <td>f</td>\n",
       "      <td>f</td>\n",
       "      <td>...</td>\n",
       "      <td>171.0</td>\n",
       "      <td>t</td>\n",
       "      <td>1.49</td>\n",
       "      <td>t</td>\n",
       "      <td>115.0</td>\n",
       "      <td>f</td>\n",
       "      <td>NaN</td>\n",
       "      <td>STMW</td>\n",
       "      <td>2563</td>\n",
       "      <td>negative</td>\n",
       "    </tr>\n",
       "    <tr>\n",
       "      <th>3</th>\n",
       "      <td>50</td>\n",
       "      <td>F</td>\n",
       "      <td>f</td>\n",
       "      <td>f</td>\n",
       "      <td>t</td>\n",
       "      <td>f</td>\n",
       "      <td>f</td>\n",
       "      <td>f</td>\n",
       "      <td>f</td>\n",
       "      <td>f</td>\n",
       "      <td>...</td>\n",
       "      <td>131.0</td>\n",
       "      <td>t</td>\n",
       "      <td>1.02</td>\n",
       "      <td>t</td>\n",
       "      <td>129.0</td>\n",
       "      <td>f</td>\n",
       "      <td>NaN</td>\n",
       "      <td>other</td>\n",
       "      <td>3433</td>\n",
       "      <td>negative</td>\n",
       "    </tr>\n",
       "    <tr>\n",
       "      <th>4</th>\n",
       "      <td>66</td>\n",
       "      <td>F</td>\n",
       "      <td>f</td>\n",
       "      <td>f</td>\n",
       "      <td>f</td>\n",
       "      <td>f</td>\n",
       "      <td>f</td>\n",
       "      <td>t</td>\n",
       "      <td>f</td>\n",
       "      <td>f</td>\n",
       "      <td>...</td>\n",
       "      <td>89.0</td>\n",
       "      <td>t</td>\n",
       "      <td>0.87</td>\n",
       "      <td>t</td>\n",
       "      <td>103.0</td>\n",
       "      <td>f</td>\n",
       "      <td>NaN</td>\n",
       "      <td>SVI</td>\n",
       "      <td>1028</td>\n",
       "      <td>negative</td>\n",
       "    </tr>\n",
       "  </tbody>\n",
       "</table>\n",
       "<p>5 rows × 31 columns</p>\n",
       "</div>"
      ],
      "text/plain": [
       "   f0   f1 f2 f3 f4 f5 f6 f7 f8 f9  ...    f21 f22   f23 f24    f25 f26 f27  \\\n",
       "0  30    F  f  f  f  f  t  f  f  f  ...  159.0   t  1.65   t   96.0   f NaN   \n",
       "1  38    F  f  f  f  f  f  f  f  f  ...   57.0   t  0.92   t   63.0   f NaN   \n",
       "2  21  NaN  f  f  f  f  t  f  f  f  ...  171.0   t  1.49   t  115.0   f NaN   \n",
       "3  50    F  f  f  t  f  f  f  f  f  ...  131.0   t  1.02   t  129.0   f NaN   \n",
       "4  66    F  f  f  f  f  f  t  f  f  ...   89.0   t  0.87   t  103.0   f NaN   \n",
       "\n",
       "     f28   f29    target  \n",
       "0   STMW  1540  negative  \n",
       "1   SVHC  1626  negative  \n",
       "2   STMW  2563  negative  \n",
       "3  other  3433  negative  \n",
       "4    SVI  1028  negative  \n",
       "\n",
       "[5 rows x 31 columns]"
      ]
     },
     "execution_count": 18,
     "metadata": {},
     "output_type": "execute_result"
    }
   ],
   "source": [
    "test_set.head()"
   ]
  },
  {
   "cell_type": "code",
   "execution_count": 19,
   "id": "ad3ca7a1",
   "metadata": {},
   "outputs": [
    {
     "name": "stdout",
     "output_type": "stream",
     "text": [
      "<class 'pandas.core.frame.DataFrame'>\n",
      "RangeIndex: 900 entries, 0 to 899\n",
      "Data columns (total 30 columns):\n",
      " #   Column  Non-Null Count  Dtype  \n",
      "---  ------  --------------  -----  \n",
      " 0   f0      900 non-null    int64  \n",
      " 1   f1      900 non-null    int32  \n",
      " 2   f2      900 non-null    bool   \n",
      " 3   f3      900 non-null    bool   \n",
      " 4   f4      900 non-null    bool   \n",
      " 5   f5      900 non-null    bool   \n",
      " 6   f6      900 non-null    bool   \n",
      " 7   f7      900 non-null    bool   \n",
      " 8   f8      900 non-null    bool   \n",
      " 9   f9      900 non-null    bool   \n",
      " 10  f10     900 non-null    bool   \n",
      " 11  f11     900 non-null    bool   \n",
      " 12  f12     900 non-null    bool   \n",
      " 13  f13     900 non-null    bool   \n",
      " 14  f14     900 non-null    bool   \n",
      " 15  f15     900 non-null    bool   \n",
      " 16  f16     900 non-null    bool   \n",
      " 17  f17     900 non-null    float64\n",
      " 18  f18     900 non-null    bool   \n",
      " 19  f19     900 non-null    float64\n",
      " 20  f20     900 non-null    bool   \n",
      " 21  f21     900 non-null    float64\n",
      " 22  f22     900 non-null    bool   \n",
      " 23  f23     900 non-null    float64\n",
      " 24  f24     900 non-null    bool   \n",
      " 25  f25     900 non-null    float64\n",
      " 26  f26     900 non-null    bool   \n",
      " 27  f28     900 non-null    int32  \n",
      " 28  f29     900 non-null    int64  \n",
      " 29  target  900 non-null    int64  \n",
      "dtypes: bool(20), float64(5), int32(2), int64(3)\n",
      "memory usage: 81.0 KB\n"
     ]
    }
   ],
   "source": [
    "test_set, f1_encoder, f28_encoder  = data_processing(test_set)\n",
    "test_set.info()"
   ]
  },
  {
   "cell_type": "code",
   "execution_count": 20,
   "id": "a84adedc",
   "metadata": {},
   "outputs": [
    {
     "data": {
      "text/html": [
       "<div>\n",
       "<style scoped>\n",
       "    .dataframe tbody tr th:only-of-type {\n",
       "        vertical-align: middle;\n",
       "    }\n",
       "\n",
       "    .dataframe tbody tr th {\n",
       "        vertical-align: top;\n",
       "    }\n",
       "\n",
       "    .dataframe thead th {\n",
       "        text-align: right;\n",
       "    }\n",
       "</style>\n",
       "<table border=\"1\" class=\"dataframe\">\n",
       "  <thead>\n",
       "    <tr style=\"text-align: right;\">\n",
       "      <th></th>\n",
       "      <th>f0</th>\n",
       "      <th>f1</th>\n",
       "      <th>f2</th>\n",
       "      <th>f3</th>\n",
       "      <th>f4</th>\n",
       "      <th>f5</th>\n",
       "      <th>f6</th>\n",
       "      <th>f7</th>\n",
       "      <th>f8</th>\n",
       "      <th>f9</th>\n",
       "      <th>...</th>\n",
       "      <th>f20</th>\n",
       "      <th>f21</th>\n",
       "      <th>f22</th>\n",
       "      <th>f23</th>\n",
       "      <th>f24</th>\n",
       "      <th>f25</th>\n",
       "      <th>f26</th>\n",
       "      <th>f28</th>\n",
       "      <th>f29</th>\n",
       "      <th>target</th>\n",
       "    </tr>\n",
       "  </thead>\n",
       "  <tbody>\n",
       "    <tr>\n",
       "      <th>0</th>\n",
       "      <td>30</td>\n",
       "      <td>0</td>\n",
       "      <td>False</td>\n",
       "      <td>False</td>\n",
       "      <td>False</td>\n",
       "      <td>False</td>\n",
       "      <td>True</td>\n",
       "      <td>False</td>\n",
       "      <td>False</td>\n",
       "      <td>False</td>\n",
       "      <td>...</td>\n",
       "      <td>True</td>\n",
       "      <td>159.0</td>\n",
       "      <td>True</td>\n",
       "      <td>1.65</td>\n",
       "      <td>True</td>\n",
       "      <td>96.0</td>\n",
       "      <td>False</td>\n",
       "      <td>0</td>\n",
       "      <td>1540</td>\n",
       "      <td>-1</td>\n",
       "    </tr>\n",
       "    <tr>\n",
       "      <th>1</th>\n",
       "      <td>38</td>\n",
       "      <td>0</td>\n",
       "      <td>False</td>\n",
       "      <td>False</td>\n",
       "      <td>False</td>\n",
       "      <td>False</td>\n",
       "      <td>False</td>\n",
       "      <td>False</td>\n",
       "      <td>False</td>\n",
       "      <td>False</td>\n",
       "      <td>...</td>\n",
       "      <td>True</td>\n",
       "      <td>57.0</td>\n",
       "      <td>True</td>\n",
       "      <td>0.92</td>\n",
       "      <td>True</td>\n",
       "      <td>63.0</td>\n",
       "      <td>False</td>\n",
       "      <td>1</td>\n",
       "      <td>1626</td>\n",
       "      <td>-1</td>\n",
       "    </tr>\n",
       "    <tr>\n",
       "      <th>2</th>\n",
       "      <td>21</td>\n",
       "      <td>2</td>\n",
       "      <td>False</td>\n",
       "      <td>False</td>\n",
       "      <td>False</td>\n",
       "      <td>False</td>\n",
       "      <td>True</td>\n",
       "      <td>False</td>\n",
       "      <td>False</td>\n",
       "      <td>False</td>\n",
       "      <td>...</td>\n",
       "      <td>True</td>\n",
       "      <td>171.0</td>\n",
       "      <td>True</td>\n",
       "      <td>1.49</td>\n",
       "      <td>True</td>\n",
       "      <td>115.0</td>\n",
       "      <td>False</td>\n",
       "      <td>0</td>\n",
       "      <td>2563</td>\n",
       "      <td>-1</td>\n",
       "    </tr>\n",
       "    <tr>\n",
       "      <th>3</th>\n",
       "      <td>50</td>\n",
       "      <td>0</td>\n",
       "      <td>False</td>\n",
       "      <td>False</td>\n",
       "      <td>True</td>\n",
       "      <td>False</td>\n",
       "      <td>False</td>\n",
       "      <td>False</td>\n",
       "      <td>False</td>\n",
       "      <td>False</td>\n",
       "      <td>...</td>\n",
       "      <td>True</td>\n",
       "      <td>131.0</td>\n",
       "      <td>True</td>\n",
       "      <td>1.02</td>\n",
       "      <td>True</td>\n",
       "      <td>129.0</td>\n",
       "      <td>False</td>\n",
       "      <td>4</td>\n",
       "      <td>3433</td>\n",
       "      <td>-1</td>\n",
       "    </tr>\n",
       "    <tr>\n",
       "      <th>4</th>\n",
       "      <td>66</td>\n",
       "      <td>0</td>\n",
       "      <td>False</td>\n",
       "      <td>False</td>\n",
       "      <td>False</td>\n",
       "      <td>False</td>\n",
       "      <td>False</td>\n",
       "      <td>True</td>\n",
       "      <td>False</td>\n",
       "      <td>False</td>\n",
       "      <td>...</td>\n",
       "      <td>True</td>\n",
       "      <td>89.0</td>\n",
       "      <td>True</td>\n",
       "      <td>0.87</td>\n",
       "      <td>True</td>\n",
       "      <td>103.0</td>\n",
       "      <td>False</td>\n",
       "      <td>3</td>\n",
       "      <td>1028</td>\n",
       "      <td>-1</td>\n",
       "    </tr>\n",
       "  </tbody>\n",
       "</table>\n",
       "<p>5 rows × 30 columns</p>\n",
       "</div>"
      ],
      "text/plain": [
       "   f0  f1     f2     f3     f4     f5     f6     f7     f8     f9  ...   f20  \\\n",
       "0  30   0  False  False  False  False   True  False  False  False  ...  True   \n",
       "1  38   0  False  False  False  False  False  False  False  False  ...  True   \n",
       "2  21   2  False  False  False  False   True  False  False  False  ...  True   \n",
       "3  50   0  False  False   True  False  False  False  False  False  ...  True   \n",
       "4  66   0  False  False  False  False  False   True  False  False  ...  True   \n",
       "\n",
       "     f21   f22   f23   f24    f25    f26  f28   f29  target  \n",
       "0  159.0  True  1.65  True   96.0  False    0  1540      -1  \n",
       "1   57.0  True  0.92  True   63.0  False    1  1626      -1  \n",
       "2  171.0  True  1.49  True  115.0  False    0  2563      -1  \n",
       "3  131.0  True  1.02  True  129.0  False    4  3433      -1  \n",
       "4   89.0  True  0.87  True  103.0  False    3  1028      -1  \n",
       "\n",
       "[5 rows x 30 columns]"
      ]
     },
     "execution_count": 20,
     "metadata": {},
     "output_type": "execute_result"
    }
   ],
   "source": [
    "test_set.head()"
   ]
  },
  {
   "cell_type": "code",
   "execution_count": 21,
   "id": "8d5cadde",
   "metadata": {},
   "outputs": [
    {
     "name": "stdout",
     "output_type": "stream",
     "text": [
      "Accuracy: 98.67%\n",
      "F1 Score: 90.00%\n",
      "ROC AUC Score: 96.08%\n"
     ]
    }
   ],
   "source": [
    "X = test_set[test_set.columns.difference(['target'])]\n",
    "Y = test_set['target']\n",
    "\n",
    "# make predictions for test data\n",
    "y_pred = xgb_final.predict(X)\n",
    "\n",
    "# evaluate predictions\n",
    "accuracy = accuracy_score(Y, y_pred)\n",
    "print(\"Accuracy: %.2f%%\" % (accuracy * 100.0))\n",
    "\n",
    "f1 = f1_score(Y, y_pred)\n",
    "print(\"F1 Score: %.2f%%\" % (f1 * 100.0))\n",
    "\n",
    "auc = roc_auc_score(Y, y_pred)\n",
    "print(\"ROC AUC Score: %.2f%%\" % (auc * 100.0))"
   ]
  },
  {
   "cell_type": "markdown",
   "id": "72302a0c",
   "metadata": {},
   "source": [
    "# 4. Conclusion"
   ]
  },
  {
   "cell_type": "markdown",
   "id": "715add22",
   "metadata": {},
   "source": [
    "This notebook first processed, cleaned, and preliminarily analyzed the data, and then used the **Xgboost** model to solve the **binary classification** problem. The final **AUC** value on the **test set** can reach **96.08%**.\n",
    "\n",
    "\n",
    "**Next improvement** directions:\n",
    "1. Try more diverse feature processing methods\n",
    "2. Try other ensemble learning methods\n",
    "3. Upsampling or downsampling for imbalanced sample sets\n",
    "4. Collect more data"
   ]
  }
 ],
 "metadata": {
  "celltoolbar": "原始单元格格式",
  "kernelspec": {
   "display_name": "Python 3",
   "language": "python",
   "name": "python3"
  },
  "language_info": {
   "codemirror_mode": {
    "name": "ipython",
    "version": 3
   },
   "file_extension": ".py",
   "mimetype": "text/x-python",
   "name": "python",
   "nbconvert_exporter": "python",
   "pygments_lexer": "ipython3",
   "version": "3.7.10"
  }
 },
 "nbformat": 4,
 "nbformat_minor": 5
}
